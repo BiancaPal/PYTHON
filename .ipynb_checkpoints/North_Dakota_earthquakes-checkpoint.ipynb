{
 "cells": [
  {
   "cell_type": "code",
   "execution_count": 1,
   "metadata": {},
   "outputs": [],
   "source": [
    "import pandas as pd"
   ]
  },
  {
   "cell_type": "code",
   "execution_count": 5,
   "metadata": {},
   "outputs": [],
   "source": [
    "data=pd.read_csv('NDHUB.EarthquakeLocations_14.csv')"
   ]
  },
  {
   "cell_type": "code",
   "execution_count": 6,
   "metadata": {
    "scrolled": true
   },
   "outputs": [
    {
     "data": {
      "text/html": [
       "<div>\n",
       "<style scoped>\n",
       "    .dataframe tbody tr th:only-of-type {\n",
       "        vertical-align: middle;\n",
       "    }\n",
       "\n",
       "    .dataframe tbody tr th {\n",
       "        vertical-align: top;\n",
       "    }\n",
       "\n",
       "    .dataframe thead th {\n",
       "        text-align: right;\n",
       "    }\n",
       "</style>\n",
       "<table border=\"1\" class=\"dataframe\">\n",
       "  <thead>\n",
       "    <tr style=\"text-align: right;\">\n",
       "      <th></th>\n",
       "      <th>OBJECTID</th>\n",
       "      <th>LONGITUDE</th>\n",
       "      <th>LATITUDE</th>\n",
       "      <th>EVENTDATE</th>\n",
       "      <th>MAGNITUDE</th>\n",
       "      <th>INTENSITY</th>\n",
       "      <th>DEPTH</th>\n",
       "      <th>AREA</th>\n",
       "      <th>YEAR_OCCURRED</th>\n",
       "    </tr>\n",
       "  </thead>\n",
       "  <tbody>\n",
       "    <tr>\n",
       "      <th>0</th>\n",
       "      <td>641</td>\n",
       "      <td>-103.600</td>\n",
       "      <td>48.200</td>\n",
       "      <td>19150808</td>\n",
       "      <td>3.7</td>\n",
       "      <td>IV</td>\n",
       "      <td>U</td>\n",
       "      <td>Williston</td>\n",
       "      <td>1915</td>\n",
       "    </tr>\n",
       "    <tr>\n",
       "      <th>1</th>\n",
       "      <td>642</td>\n",
       "      <td>-102.100</td>\n",
       "      <td>46.900</td>\n",
       "      <td>19270430</td>\n",
       "      <td>3.2</td>\n",
       "      <td>III</td>\n",
       "      <td>U</td>\n",
       "      <td>Hebron</td>\n",
       "      <td>1927</td>\n",
       "    </tr>\n",
       "    <tr>\n",
       "      <th>2</th>\n",
       "      <td>643</td>\n",
       "      <td>-103.700</td>\n",
       "      <td>48.200</td>\n",
       "      <td>19461026</td>\n",
       "      <td>3.7</td>\n",
       "      <td>IV</td>\n",
       "      <td>U</td>\n",
       "      <td>Williston</td>\n",
       "      <td>1946</td>\n",
       "    </tr>\n",
       "    <tr>\n",
       "      <th>3</th>\n",
       "      <td>644</td>\n",
       "      <td>-100.900</td>\n",
       "      <td>46.000</td>\n",
       "      <td>19470514</td>\n",
       "      <td>3.7</td>\n",
       "      <td>IV</td>\n",
       "      <td>U</td>\n",
       "      <td>Selfridge</td>\n",
       "      <td>1947</td>\n",
       "    </tr>\n",
       "    <tr>\n",
       "      <th>4</th>\n",
       "      <td>645</td>\n",
       "      <td>-100.742</td>\n",
       "      <td>46.588</td>\n",
       "      <td>19680708</td>\n",
       "      <td>4.4</td>\n",
       "      <td>IV</td>\n",
       "      <td>20.5 (33)</td>\n",
       "      <td>Huff</td>\n",
       "      <td>1968</td>\n",
       "    </tr>\n",
       "  </tbody>\n",
       "</table>\n",
       "</div>"
      ],
      "text/plain": [
       "   OBJECTID  LONGITUDE  LATITUDE  EVENTDATE  MAGNITUDE INTENSITY      DEPTH  \\\n",
       "0       641   -103.600    48.200   19150808        3.7        IV          U   \n",
       "1       642   -102.100    46.900   19270430        3.2       III          U   \n",
       "2       643   -103.700    48.200   19461026        3.7        IV          U   \n",
       "3       644   -100.900    46.000   19470514        3.7        IV          U   \n",
       "4       645   -100.742    46.588   19680708        4.4        IV  20.5 (33)   \n",
       "\n",
       "        AREA  YEAR_OCCURRED  \n",
       "0  Williston           1915  \n",
       "1     Hebron           1927  \n",
       "2  Williston           1946  \n",
       "3  Selfridge           1947  \n",
       "4       Huff           1968  "
      ]
     },
     "execution_count": 6,
     "metadata": {},
     "output_type": "execute_result"
    }
   ],
   "source": [
    "data.head()"
   ]
  },
  {
   "cell_type": "code",
   "execution_count": null,
   "metadata": {},
   "outputs": [],
   "source": []
  }
 ],
 "metadata": {
  "kernelspec": {
   "display_name": "Python 3",
   "language": "python",
   "name": "python3"
  },
  "language_info": {
   "codemirror_mode": {
    "name": "ipython",
    "version": 3
   },
   "file_extension": ".py",
   "mimetype": "text/x-python",
   "name": "python",
   "nbconvert_exporter": "python",
   "pygments_lexer": "ipython3",
   "version": "3.8.3"
  }
 },
 "nbformat": 4,
 "nbformat_minor": 4
}
